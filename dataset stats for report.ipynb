{
 "cells": [
  {
   "cell_type": "code",
   "execution_count": 2,
   "id": "initial_id",
   "metadata": {
    "collapsed": true,
    "ExecuteTime": {
     "end_time": "2023-12-16T19:49:20.334393900Z",
     "start_time": "2023-12-16T19:49:19.454302900Z"
    }
   },
   "outputs": [],
   "source": [
    "from src.dataset_utils import MotleyFoolDataset\n",
    "\n",
    "dataset = MotleyFoolDataset('TMF_dataset_annotated.zip')"
   ]
  },
  {
   "cell_type": "code",
   "execution_count": 3,
   "outputs": [],
   "source": [
    "test_set = dataset['Q1 2023':'Q4 2023']\n",
    "val_set = dataset['Q1 2022':'Q4 2022']\n",
    "train_set = dataset[:'Q4 2021']\n",
    "\n",
    "len(test_set), len(val_set), len(train_set)"
   ],
   "metadata": {
    "collapsed": false,
    "ExecuteTime": {
     "end_time": "2023-12-16T19:49:21.108812700Z",
     "start_time": "2023-12-16T19:49:21.104199100Z"
    }
   },
   "id": "5ea45bc66d7de0d7"
  },
  {
   "cell_type": "code",
   "execution_count": null,
   "outputs": [
    {
     "name": "stderr",
     "output_type": "stream",
     "text": [
      "[nltk_data] Downloading package punkt to\n",
      "[nltk_data]     C:\\Users\\damie\\AppData\\Roaming\\nltk_data...\n",
      "[nltk_data]   Unzipping tokenizers\\punkt.zip.\n"
     ]
    }
   ],
   "source": [
    "from nltk.tokenize import sent_tokenize, word_tokenize\n",
    "import nltk\n",
    "import numpy as np\n",
    "import pandas as pd\n",
    "\n",
    "nltk.download('punkt')\n",
    "\n",
    "stats = []\n",
    "\n",
    "for split, name in [\n",
    "    (test_set, 'test'),\n",
    "    (val_set, 'validation'),\n",
    "    (train_set, 'training')\n",
    "]:\n",
    "    sentences_counts = []\n",
    "    words_counts = []\n",
    "    \n",
    "    for instance in train_set:\n",
    "        content = instance['content']\n",
    "        sentences_counts.append(len(sent_tokenize(content)))\n",
    "        words_counts.append(len(word_tokenize(content)))\n",
    "    \n",
    "    \n",
    "    stats.append((\n",
    "        name,\n",
    "        np.mean(sentences_counts),\n",
    "        np.mean(words_counts),\n",
    "        np.max(words_counts)\n",
    "    ))\n",
    "\n",
    "stats_df = pd.DataFrame(stats, columns=['Split', 'Avg # of Sentences', 'Avg # of Words', 'Max # of Words'])"
   ],
   "metadata": {
    "collapsed": false,
    "is_executing": true,
    "ExecuteTime": {
     "start_time": "2023-12-16T20:06:40.257271300Z"
    }
   },
   "id": "2e1da723da2812df"
  }
 ],
 "metadata": {
  "kernelspec": {
   "display_name": "Python 3",
   "language": "python",
   "name": "python3"
  },
  "language_info": {
   "codemirror_mode": {
    "name": "ipython",
    "version": 2
   },
   "file_extension": ".py",
   "mimetype": "text/x-python",
   "name": "python",
   "nbconvert_exporter": "python",
   "pygments_lexer": "ipython2",
   "version": "2.7.6"
  }
 },
 "nbformat": 4,
 "nbformat_minor": 5
}
