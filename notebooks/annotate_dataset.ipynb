{
 "cells": [
  {
   "cell_type": "code",
   "execution_count": 37,
   "id": "initial_id",
   "metadata": {
    "collapsed": true,
    "ExecuteTime": {
     "end_time": "2023-12-13T22:13:09.002000100Z",
     "start_time": "2023-12-13T22:13:05.473897100Z"
    }
   },
   "outputs": [],
   "source": [
    "import json\n",
    "import pathlib\n",
    "import zipfile\n",
    "from zipfile import ZipFile\n",
    "\n",
    "project_dir = pathlib.Path().cwd().parent\n",
    "raw_zip = zipfile.Path(project_dir / 'TMF_dataset.zip')\n",
    "augmented_zip = zipfile.Path(project_dir / 'augmented_transcript_data.zip') / 'augmented_transcript_data'"
   ]
  },
  {
   "cell_type": "code",
   "execution_count": 38,
   "outputs": [
    {
     "data": {
      "text/plain": "40002"
     },
     "execution_count": 38,
     "metadata": {},
     "output_type": "execute_result"
    }
   ],
   "source": [
    "with raw_zip.joinpath('_bundle.json').open('r') as file:\n",
    "    transcript_data = json.load(file)\n",
    "\n",
    "len(transcript_data)"
   ],
   "metadata": {
    "collapsed": false,
    "ExecuteTime": {
     "end_time": "2023-12-13T22:13:09.385964600Z",
     "start_time": "2023-12-13T22:13:09.003999600Z"
    }
   },
   "id": "44427ebd6047424e"
  },
  {
   "cell_type": "code",
   "execution_count": 39,
   "outputs": [
    {
     "data": {
      "text/plain": "39030"
     },
     "execution_count": 39,
     "metadata": {},
     "output_type": "execute_result"
    }
   ],
   "source": [
    "augmented_transcript_data = []\n",
    "\n",
    "for path in augmented_zip.iterdir():\n",
    "    if path.suffix == '.json':\n",
    "        with path.open('r') as file:\n",
    "            augmented_transcript_data.append(json.load(file))\n",
    "\n",
    "len(augmented_transcript_data)"
   ],
   "metadata": {
    "collapsed": false,
    "ExecuteTime": {
     "end_time": "2023-12-13T22:13:26.489390600Z",
     "start_time": "2023-12-13T22:13:09.372633700Z"
    }
   },
   "id": "4e3b30c778c9c5ab"
  },
  {
   "cell_type": "code",
   "execution_count": 40,
   "outputs": [
    {
     "data": {
      "text/plain": "{'company_name': 'Clorox Co',\n 'company_ticker': 'CLX',\n 'quarter': 'Q1',\n 'date': '2018-10-31T13:30:00Z',\n 'content': '2018-10-31-clorox-co-clx-q1-2019-earnings-conference-call-tra.txt',\n 'daily_volatility': 0.01554540002379147,\n 'closing_price_day_before': ['2018-10-30', 133.3592],\n 'closing_price_day_of': ['2018-10-31', 129.5457],\n 'closing_price_day_after': ['2018-11-01', 134.1534]}"
     },
     "execution_count": 40,
     "metadata": {},
     "output_type": "execute_result"
    }
   ],
   "source": [
    "augmented_transcript_data[0]"
   ],
   "metadata": {
    "collapsed": false,
    "ExecuteTime": {
     "end_time": "2023-12-13T22:13:26.489390600Z",
     "start_time": "2023-12-13T22:13:26.480371800Z"
    }
   },
   "id": "b34cf2cc5bc3875d"
  },
  {
   "cell_type": "code",
   "execution_count": 41,
   "outputs": [],
   "source": [
    "result = []\n",
    "\n",
    "mapped_augmented_transcript_data = {\n",
    "    data['content']: data\n",
    "    for data in augmented_transcript_data\n",
    "}\n",
    "\n",
    "for transcript in transcript_data:\n",
    "    augmented_transcript = mapped_augmented_transcript_data.get(transcript['content'])\n",
    "    \n",
    "    if (augmented_transcript is None\n",
    "            or augmented_transcript['closing_price_day_before'] is None\n",
    "            or augmented_transcript['closing_price_day_after'] is None):\n",
    "        continue\n",
    "    \n",
    "    before_price = augmented_transcript['closing_price_day_before'][1]\n",
    "    after_price = augmented_transcript['closing_price_day_after'][1]\n",
    "\n",
    "    result.append({\n",
    "        'company_name': transcript['company_name'],\n",
    "        'company_ticker': transcript['company_ticker'],\n",
    "        'quarter': transcript['quarter'],\n",
    "        'date': transcript['date'],\n",
    "        'content': transcript['content'],\n",
    "        'direction': 'UP' if after_price - before_price > 0 else 'DOWN'\n",
    "    })\n"
   ],
   "metadata": {
    "collapsed": false,
    "ExecuteTime": {
     "end_time": "2023-12-13T22:13:26.629335400Z",
     "start_time": "2023-12-13T22:13:26.492388Z"
    }
   },
   "id": "ade23ad13e917ae3"
  },
  {
   "cell_type": "code",
   "execution_count": 42,
   "outputs": [
    {
     "data": {
      "text/plain": "38212"
     },
     "execution_count": 42,
     "metadata": {},
     "output_type": "execute_result"
    }
   ],
   "source": [
    "len(result)"
   ],
   "metadata": {
    "collapsed": false,
    "ExecuteTime": {
     "end_time": "2023-12-13T22:13:26.645831400Z",
     "start_time": "2023-12-13T22:13:26.632604300Z"
    }
   },
   "id": "14ab7a2de86c9b04"
  },
  {
   "cell_type": "code",
   "execution_count": 43,
   "outputs": [
    {
     "name": "stdout",
     "output_type": "stream",
     "text": [
      "UP instances:   19243 (50.36)%\n",
      "DOWN instances: 18969 (49.64)%\n"
     ]
    }
   ],
   "source": [
    "up_count = sum(1 for transcript in result if transcript['direction'] == 'UP')\n",
    "down_count = sum(1 for transcript in result if transcript['direction'] == 'DOWN')\n",
    "\n",
    "print(f'UP instances:   {up_count} ({up_count / len(result) * 100:2.2f})%')\n",
    "print(f'DOWN instances: {down_count} ({down_count / len(result) * 100:2.2f})%')"
   ],
   "metadata": {
    "collapsed": false,
    "ExecuteTime": {
     "end_time": "2023-12-13T22:13:26.684792Z",
     "start_time": "2023-12-13T22:13:26.641793300Z"
    }
   },
   "id": "6962ec7c094d7def"
  },
  {
   "cell_type": "code",
   "execution_count": 44,
   "outputs": [],
   "source": [
    "result.sort(key=lambda t: t['date'])"
   ],
   "metadata": {
    "collapsed": false,
    "ExecuteTime": {
     "end_time": "2023-12-13T22:13:26.686803600Z",
     "start_time": "2023-12-13T22:13:26.669514100Z"
    }
   },
   "id": "9e33beb1de57bbe1"
  },
  {
   "cell_type": "code",
   "execution_count": 45,
   "outputs": [
    {
     "data": {
      "text/plain": "  0%|          | 0/38212 [00:00<?, ?it/s]",
      "application/vnd.jupyter.widget-view+json": {
       "version_major": 2,
       "version_minor": 0,
       "model_id": "8013ca2a89d245f994d18acbceeaecce"
      }
     },
     "metadata": {},
     "output_type": "display_data"
    }
   ],
   "source": [
    "from zipfile import ZIP_DEFLATED, ZipFile\n",
    "from tqdm.auto import tqdm\n",
    "\n",
    "with ZipFile(project_dir / 'TMF_dataset_annotated.zip', 'w', compression=ZIP_DEFLATED) as annotated_zip:\n",
    "    with annotated_zip.open('_bundle.json', 'w') as file:\n",
    "        file.write(json.dumps(result, indent=2).encode())\n",
    "    \n",
    "    for transcript in tqdm(result):\n",
    "        with raw_zip.joinpath(transcript['content']).open('rb') as in_file, annotated_zip.open(transcript['content'], 'w') as out_file:\n",
    "            out_file.write(in_file.read())"
   ],
   "metadata": {
    "collapsed": false,
    "ExecuteTime": {
     "end_time": "2023-12-13T22:15:44.502217600Z",
     "start_time": "2023-12-13T22:13:26.675963800Z"
    }
   },
   "id": "2fb55cedaf07fa7f"
  }
 ],
 "metadata": {
  "kernelspec": {
   "display_name": "Python 3",
   "language": "python",
   "name": "python3"
  },
  "language_info": {
   "codemirror_mode": {
    "name": "ipython",
    "version": 2
   },
   "file_extension": ".py",
   "mimetype": "text/x-python",
   "name": "python",
   "nbconvert_exporter": "python",
   "pygments_lexer": "ipython2",
   "version": "2.7.6"
  }
 },
 "nbformat": 4,
 "nbformat_minor": 5
}
