{
 "cells": [
  {
   "cell_type": "markdown",
   "source": [
    "This notebook aims to identify defects in the dataset and correct them."
   ],
   "metadata": {
    "collapsed": false
   },
   "id": "597225bcfb40a459"
  },
  {
   "cell_type": "code",
   "execution_count": 35,
   "outputs": [
    {
     "data": {
      "text/plain": "40002"
     },
     "execution_count": 35,
     "metadata": {},
     "output_type": "execute_result"
    }
   ],
   "source": [
    "import traceback\n",
    "from pathlib import Path\n",
    "import json\n",
    "\n",
    "folder = Path.cwd().parent / 'transcript_data'\n",
    "\n",
    "with open(folder / '_bundle.json') as transcripts:\n",
    "    transcripts = json.load(transcripts)\n",
    "\n",
    "len(transcripts)"
   ],
   "metadata": {
    "collapsed": false,
    "ExecuteTime": {
     "end_time": "2023-12-13T19:16:46.899738300Z",
     "start_time": "2023-12-13T19:16:46.699119900Z"
    }
   },
   "id": "8a09d71245436e8"
  },
  {
   "cell_type": "code",
   "execution_count": 2,
   "outputs": [],
   "source": [
    "with open(folder / '_sitemap_cache.txt') as sitemap:\n",
    "    lines = sitemap.readlines()"
   ],
   "metadata": {
    "collapsed": false,
    "ExecuteTime": {
     "end_time": "2023-12-13T18:08:29.457738400Z",
     "start_time": "2023-12-13T18:08:29.406190Z"
    }
   },
   "id": "26332619097b7eff"
  },
  {
   "cell_type": "code",
   "execution_count": 3,
   "outputs": [],
   "source": [
    "parsed_urls = {transcript['url'] for transcript in transcripts}\n",
    "all_urls = {url.strip() for url in lines}\n",
    "missed_urls = all_urls - parsed_urls"
   ],
   "metadata": {
    "collapsed": false,
    "ExecuteTime": {
     "end_time": "2023-12-13T18:08:29.506906100Z",
     "start_time": "2023-12-13T18:08:29.446696500Z"
    }
   },
   "id": "c771203a3aca36ae"
  },
  {
   "cell_type": "code",
   "execution_count": 4,
   "outputs": [
    {
     "data": {
      "text/plain": "40017"
     },
     "execution_count": 4,
     "metadata": {},
     "output_type": "execute_result"
    }
   ],
   "source": [
    "len(all_urls)"
   ],
   "metadata": {
    "collapsed": false,
    "ExecuteTime": {
     "end_time": "2023-12-13T18:08:29.509116100Z",
     "start_time": "2023-12-13T18:08:29.486820Z"
    }
   },
   "id": "38ea7de442b49d6d"
  },
  {
   "cell_type": "code",
   "execution_count": 45,
   "outputs": [
    {
     "data": {
      "text/plain": "  0%|          | 0/40002 [00:00<?, ?it/s]",
      "application/vnd.jupyter.widget-view+json": {
       "version_major": 2,
       "version_minor": 0,
       "model_id": "c540600c9e274e199fcd18d1d59c2b7c"
      }
     },
     "metadata": {},
     "output_type": "display_data"
    }
   ],
   "source": [
    "from tqdm.auto import tqdm\n",
    "\n",
    "for transcript in tqdm(transcripts):\n",
    "    content_path = folder / transcript['content']\n",
    "    \n",
    "    try:\n",
    "        with content_path.open('r', encoding='utf8') as content_file:\n",
    "            content = content_file.read()\n",
    "    except Exception as e:\n",
    "        print(f'{type(e).__name__}: {content_path}')"
   ],
   "metadata": {
    "collapsed": false,
    "ExecuteTime": {
     "end_time": "2023-12-13T19:27:02.704009400Z",
     "start_time": "2023-12-13T19:26:57.210617400Z"
    }
   },
   "id": "dffdaa39b1c9b80a"
  },
  {
   "cell_type": "code",
   "execution_count": 46,
   "outputs": [],
   "source": [
    "from datetime import datetime\n",
    "from pathlib import Path\n",
    "import zipfile\n",
    "\n",
    "\n",
    "class MotleyFoolDataset:\n",
    "    def __init__(self, dataset_path):\n",
    "        self.dataset_path = Path(dataset_path)\n",
    "        \n",
    "        if self.dataset_path.suffix == '.zip':\n",
    "            self.dataset_path = zipfile.Path(self.dataset_path)\n",
    "        \n",
    "        bundle_path = self.dataset_path / '_bundle.json'\n",
    "        with bundle_path.open() as bundle:\n",
    "            self.metadata = json.load(bundle)\n",
    "    \n",
    "    def __len__(self):\n",
    "        return len(self.metadata)\n",
    "    \n",
    "    def __getitem__(self, item):\n",
    "        return self._load_data(self.metadata[item])\n",
    "    \n",
    "    def __iter__(self):\n",
    "        for instance in self.metadata:\n",
    "            yield self._load_data(instance)\n",
    "    \n",
    "    def _load_data(self, instance):\n",
    "        content_path = self.dataset_path / instance['content']\n",
    "        with content_path.open('r', encoding='utf8') as content_file:\n",
    "            return {\n",
    "                **instance,\n",
    "                'date': datetime.fromisoformat(instance['date']),\n",
    "                'content': content_file.read()\n",
    "            }"
   ],
   "metadata": {
    "collapsed": false,
    "ExecuteTime": {
     "end_time": "2023-12-13T19:27:29.421637400Z",
     "start_time": "2023-12-13T19:27:29.403304500Z"
    }
   },
   "id": "fc7c28a9e54ff990"
  },
  {
   "cell_type": "markdown",
   "source": [],
   "metadata": {
    "collapsed": false
   },
   "id": "8ea764f17896dfd5"
  },
  {
   "cell_type": "code",
   "execution_count": 50,
   "outputs": [],
   "source": [
    "dataset = MotleyFoolDataset(Path.cwd().parent / 'TMF_dataset_annotated.zip')"
   ],
   "metadata": {
    "collapsed": false,
    "ExecuteTime": {
     "end_time": "2023-12-13T22:16:29.332977500Z",
     "start_time": "2023-12-13T22:16:27.715017800Z"
    }
   },
   "id": "320b8324936a64df"
  },
  {
   "cell_type": "code",
   "execution_count": 51,
   "outputs": [
    {
     "data": {
      "text/plain": "{'company_name': 'Glu Mobile Inc',\n 'company_ticker': 'GLUU',\n 'quarter': 'Q2 2019',\n 'date': datetime.datetime(2019, 8, 1, 17, 0, tzinfo=datetime.timezone.utc),\n 'content': \"Contents:\\n\\n\\n\\n\\nPrepared Remarks\\n\\n\\nQuestions and Answers\\n\\n\\nCall Participants\\n\\n\\n\\n\\nPrepared Remarks:\\n\\n\\nOperator\\n\\n\\nGood afternoon, ladies and gentlemen, and welcome to the Q2 2019 Glu Mobile earnings conference call. [Operator Instructions].\\n\\n\\nI would now like to turn the conference over to your host, Harman Singh, Vice President of Finance and Investor Relations. You may begin, sir.\\n\\n\\nHarman Singh -- Vise President, finance and Investor Relation\\n\\n\\nGood afternoon, everyone, and thank you for joining us on Glu Mobile's Second Quarter 2019 Earnings Conference Call. On the call today are Nick Earl, President and Chief Executive Officer; and Eric Ludwig, COO and Chief Financial Officer. During this call, we will be making forward-looking statements regarding future events and the future financial performance of the company. Any forward-looking statements that we make today are based on assumptions that the company believes to be reasonable as of this date. We undertake no obligation to update these statements as a result of future events. We caution you to consider the important factors that could cause actual results to differ materially from those in the forward-looking statements in the press release and during this conference call. These risk factors are described more fully in our documents filed with the SEC, specifically the most recent reports on Forms 10-K and 10-Q. During this call, we will present both GAAP and non-GAAP financial measures.\\n\\n\\nThe non-GAAP financial measures are not intended to be considered in isolation from, a substitute for or superior to our GAAP results, and we encourage investors to consider all measures before making any investment decision. For complete information regarding our non-GAAP financial information, the most directly comparable GAAP measures and a quantitative reconciliation of those figures, please refer to the supplemental presentation accompanying today's earnings call that can be accessed via our investor website, www.glu.com/investors. As a reminder, consistent with our financial presentation and for all the information aside from bookings or as otherwise stated below, we will discuss results on a GAAP basis and refer you to changes in deferred revenue, the deferred cost of revenue and the non-GAAP operating expenses total in our financial tables.\\n\\n\\nThis data will provide a GAAP to non-GAAP reconciliation of the quarter's financial results based on the same methodology we've used in prior quarters. We are also providing a supplementary Excel file on our IR website to more easily aid in this reconciliation. Both the PowerPoint and Excel file are now accessible on the website. We encourage you to follow along with the slides during this earnings conference call.\\n\\n\\nAnd with that, I would like to turn the call over to Nick.\\n\\n\\nNick Earl -- President and Chief Executive Officer\\n\\n\\nThanks, Harman. Hello, everyone, and thank you for joining us today for Glu's second quarter 2019 earnings call. I will provide an overview of the quarter's highlights and our game development progress and Eric will then discuss the quarter's financial results and our guidance in more detail. We reported solid financial results in the second quarter that were in line with our expectations. We produced our largest bookings quarter ever of $101.9 million with strong profitability on an adjusted EBITDA basis and the second consecutive quarter of GAAP profitability. We launched 2 new titles, WWE Universe and Diner Dash Adventures, and made significant progress in developing our pipeline of potential growth games.\\n\\n\\nWe also made several strategic decisions that will reduce our full year 2019 guidance, but will strengthen our position to generate improved results in 2020. Specifically, the strong performance we have seen from Diner Dash Adventures increases our confidence that it will be a growth game. Therefore we will continue to support that expected growth with higher levels of UA investment. WWE has not yet reached the target metrics we anticipated. We continue to work on enhancing the game to improve its KPIs to a level that warrants scaled UA spend. We are making meaningful progress on Disney Sorcerer's Arena. However, we have updated its launch to Q1 2020 to give the team more time to perfect the game. That said, we will launch the game earlier if the KPIs indicate that it is ready for worldwide launch. And looking at the second quarter results, our 3 growth games collectively grew 12% year-over-year. Design Home grew bookings 11% year-over-year to $42.3 million representing the 7th straight quarter of double-digit growth on a year-over-year basis.\\n\\n\\nWe introduced new meta features that include additional homes and house progression, new social layers and internationalization in select European markets. As we look to the second half the year, we expect growth to be driven by increased meta expansion, additional social features, internationalization and e-commerce, which was rolled out in limited beta in the second quarter. As the quarter progressed, we also saw improvement in the UA landscape with lower CPIs and higher-quality installs. Covet Fashion, which has just celebrated its 6-year anniversary, grew 11% year-over-year to $14.4 million. This growth was driven by its most successful summer series launch ever and new merchandising strategies including Prop Shop, a popular new feature that allows players to style their models with a wide range of accessories. Our Tap Sports Baseball franchise increased bookings 15% year-over-year to a record $28.1 million in a seasonally strong quarter. We saw increased conversion and monetization due to enhanced events and merchandising reflecting the expertise and strong execution of the team.\\n\\n\\nWWE Universe, which launched on May 28th, offers the most authentic WWE experience in mobile to date, allowing players to build and train dream rosters to do battle against other wrestlers. As we do with all of our live titles, we are continuing to introduce new features that enhance live ops to maximize the game's potential. Our plan with WWE is to continue shifting our UA investment dollars to higher ROI opportunities as we update the game. Diner Dash Adventures launched successfully on June 20th. This title is a reimagination of our Dash IP for the modern age of casual mobile games, utilizing a proven core mechanic we know our fans love with the addition of an extremely deep decorative and customization meta game that will continue to expand and evolve over time. Diner Dash Adventures has produced strong retention, conversion and monetization and we believe it will be a growth game. Dash is a wholly owned Glu IP providing higher margin flow through.\\n\\n\\nStacking another growth game, which has been our stated strategy since 2017, is one more reason why we're excited about 2020. Looking ahead, we are extremely bullish about our strong development pipeline. First, an update on Disney. Our creative team is making considerable progress on Disney Sorcerer's Arena and we are encouraged by the positive trends we have seen in the most recent update. This includes new features like club wars, refreshed challenges, enhanced social features, a streamlined new user flow and a more balanced economy. Though we have made steady progress and have seen improved KPIs, we believe the game needs additional polishing before worldwide release to maximize the opportunity of launching a top-tier growth game. We also continue the development on 3 previously announced original IP titles in our pipeline. This includes the next generation of our Deer Hunter franchise launching in 2020, which combines an iconic Glu IP with deep meta, social gameplay and event-driven live ops.\\n\\n\\nAdditionally, we have made solid progress on development of our narrative game, Originals, as well as our next Crowdstar title. Finally, we made a small but strategic acquihire to our Glu Sports studio. We recently welcomed a talented Orlando-based team that we believe is a great cultural fit. We see the sports genre as a growing area in mobile gaming and believe that Glu is well-positioned to take advantage of this opportunity with our category knowledge, experience and proven performance. This team will work under the Glu Sports brand to advance a prototype with the full support of our central infrastructure and we will continue to look for nimble, high-quality teams who share our passion for making great games. We are excited to add the Orlando team to our Glu Sports brand, which includes WWE Universe and the Tap Sports Baseball and Deer Hunter franchises. In summary, we had a good first half of 2019 with increased profitability on an adjusted EBITDA basis and significant free cash flow generation driven by solid year-over-year bookings growth.\\n\\n\\nMost importantly, we launched Diner Dash Adventures, the first game developed under our new prototyping strategy, and are excited that it is exhibiting the early indicators of a growth game. While I'm disappointed that we are lowering our guidance this year, I believe that taking the extra time to get our games right sets us up for continued growth and is strongly aligned with long-term shareholder value. We believe we will enter 2020 in a stronger position than we entered 2019. We expect our existing growth games will continue to grow next year as we will have meaningfully updated the meta game in Design Home, installed key new features in Covet Fashion and strengthened our Glu Sports portfolio. Diner Dash Adventures will contribute a full year of bookings in 2020, and we believe the launches of Disney Sorcerer's Arena and our new version of Deer Hunter will add 2 significant growth games to our portfolio. This sets us up for a robust 2020 with stacking bookings and positions us for significantly improved financial results.\\n\\n\\nEric will now provide specific details on our financials and outlook.\\n\\n\\nEric R. Ludwig -- Chief Operating Officer and Chief Financial Officer\\n\\n\\nGreat. Thank you, Nick, and good afternoon to everyone on the call. I will provide a closer look at our financial results for the second quarter and then go through guidance for both the third and fourth quarters in detail, which will roll up to our full year 2019 guidance. Let's first look at our Q2 results where we delivered record bookings, GAAP net income and strong adjusted EBITDA profitability. Revenue was $95.5 million, a 6% increase over the comparable quarter last year. Bookings reached an all-time high of $101.9 million, a 3% increase over last year's second quarter. 64% of bookings came from royalty-free Glu IP titles. And bookings from ads were $12.9 million or 13% of total bookings. And we reported $2.5 million of net income. This is the second consecutive quarter of GAAP profitability. The year-over-year bookings growth was led by our 3 growth games, which grew 12% and contributed 83% of total bookings. On a year-over-year basis, Design Home bookings increased 11% to $42.3 million, the Tsp Sports Baseball franchise was up 15% to $28.1 million and Covet Fashion grew 11% to $14.4 million.\\n\\n\\nWWE Universe launched on May 28th and generated $1.8 million in the quarter. And Diner Dash Adventures, which launched in late June, contributed $1.5 million over 10 days. One the expense side, adjusted platform commissions were $26.7 million, adjusted royalties were $7.3 million with hosting costs of $1.8 million. UA and marketing spend was $30.1 million compared to $25.3 million last year. On a year-over-year basis for the second quarter, UA and marketing as a percent of bookings increased from 25% to 30% as a result of the 2 new title launches. I wanted to provide an update on the CPI pressures we discussed on our last earnings call. For Design Home and Covet Fashion, CPIs peaked in April and since then we have seen declines each month. Our full year guidance assumes user acquisition ROI levels will remain steady to current levels for both of these growth games. While CPIs have improved since April, they remain modestly higher than 2018 levels. Operating expenses, excluding $30.1 million of UA and marketing costs, were $28 million, down $1.5 million on a year-over-year basis. And our GAAP net income was $2.5 million or $0.02 per share.\\n\\n\\nTurning to our expectations for the back half of 2019, there are several factors that are contributing to our guidance revisions. First, we only expect a modest contribution from WWE. As I stated in early June at the Baird conference, this title was not exhibiting sufficient LTV to justify scaled spend on UA. As a result, we significantly reduced our spend. Our guidance for this title has been reduced to the current bookings run rate for the balance of the year. We will continue to evaluate new product updates and will resume investing on user acquisition if and when the KPIs improve to enable ROI-positive spend. Second, we are moving all bookings for our Disney title due to the new launch timing of Q1 2020. Third, we're seeing a steeper reduction in bookings from our catalog games, games which have limited live ops and no events or UA spend. We are seeing players and dollars migrate to the larger games, including our own growth games, and away from older declining catalog titles. This accelerating decline is essentially pulling in from next year a degradation that was expected to occur.\\n\\n\\nAnd finally, we've shifted and increased our UA spend on Diner Dash Adventures given the compelling growth opportunity, which has resulted in an increase in booking guidance for this title. Now let me provide a more detailed look at our guidance for the second half of the year. We expect bookings to grow year-over-year in the third and fourth quarters with a sequential increase in Q3 due to the strength of Diner Dash Adventures. With respect to profitability, due to our strategic UA investment in Q3 to support Diner Dash Adventures, we expect to deliver a low single-digit adjusted EBITDA profit in the third quarter. This UA investment is similar to the successful strategy we implemented for Design Home starting in May of 2017 when we took advantage of a great window of positive ROI spend, which drove Design Home to record bookings. Adjusted EBITDA in the fourth quarter on a sequential basis is expected to rebound significantly due to lower UA spend resulting from the holiday competitive season.\\n\\n\\nUA for the fourth quarter in absolute dollars will look more closely like that of the first quarter of 2019. For the third quarter guidance, we expect bookings in the range of $110 million to $112 million, a 10% increase at the midpoint on a year-over-year basis. This would be a new all-time record quarter by a significant margin. On the expense side and at the midpoint of bookings guidance, we expect adjusted commissions of $29.6 million, adjusted royalties of $6.7 million and hosting costs of $1.6 million. UA costs will be approximately $7.1 million higher in the third quarter as compared to the second quarter due to our ramp on Diner Dash Adventures and, as such, UA marketing costs will be 33% of bookings. All other adjusted operating expenses are forecast to be $32.5 million. For the fourth quarter, we expect bookings in the range of $101.5 million to $103.5 million, a slight increase over last year's fourth quarter at the midpoint. From Q3 to Q4, we anticipate a sequential step-down due to expected Tap Sports Baseball seasonality. Excluding Tap Sports Baseball, bookings are expected to be flat from Q3 to Q4.\\n\\n\\nWe have provided a detailed outlook in the IR deck and press release on the fourth quarter guidance for modeling purposes. For the full year 2019, our revised bookings guidance is in the range of $406 million to $410 million, representing 6% year-over-year growth at the midpoint. This updated guidance is a $42 million reduction at the midpoint. We want to provide a detailed bridge from last quarter's full midpoint guidance of $450 million down to $408 million today. We are forecasting a $6 million increase over prior assumptions from Diner Dash Adventures due its strong performance and our heavy investment in UA during the third and fourth quarters. We are reducing our bookings guidance at combined $33 million from WWE and Disney. WWE is being lowered to its current bookings run rate while Disney is being moved out of the year completely for guidance purposes. We are also not forecasting any bookings from titles in development or beta. And last, $15 million of the guidance reduction is a result of our catalog titles declining.\\n\\n\\nWe have always expected our catalog of older titles, mainly Kim Kardashian: Hollywood, Cooking Dash, Gordon Ramsay: Dash and Deer Hunter, to trend down due to the fact that we are doing lower-touch live ops and are not running events nor spending on user acquisition. This trend accelerated this year across the industry as players and dollars shifted toward large live-ops-driven titles including our 3 growth games. Our 2 largest catalog titles are royalty-bearing titles and, as a result, the overall impact is not as significant to margins. To summarize our revised guidance, our $408 million at the midpoint is comprised of our 3 growth games, Design Home, Covet Fashion and Tap Sports Baseball, growing 15% on a year-over-year basis to $329 million. This strong growth is despite the fact that we had significant UA headwinds and the banishment of pay-per-engagement offers on one of our channel partners that we talked about last quarter. Both of these reduced our upside for the year.\\n\\n\\nOur catalog is declining 43%, from $98 million in 2018 down to $56 million for 2019. I would point out that for the full year, our catalog will be less than 14% of total bookings and our Q4 2019 run rate will be less than 8% due to expected continued declines throughout the year. Thus, as we enter 2020, our catalog will be largely immaterial to guidance. And our new titles, primarily Diner Dash Adventures, will generate $23 million for the year. On a go-forward basis, we are adjusting our guidance philosophy regarding new titles. We will not include bookings from new title launches until after the game is launched globally. We feel this is a prudent approach to reduce guidance volatility and increase our forecast precision. On the expense side for the full year at the midpoint of our guidance range, we expect adjusted platform commissions of $107.4 million, adjusted royalties of $24.9 million and hosting costs of $6.5 million. UA and marketing costs are expected to be $114.1 million or 28% of total bookings with all other adjusted operating expenses at $124.2 million. We expect the full year 2019 to be GAAP profitable.\\n\\n\\nWe ended the second quarter with a cash balance of $99.5 million and no debt. As the year progresses, we anticipate generating strong free cash flow and expect to end the year with approximately $115 million of cash. This is down from our prior guidance due to our reduction in expected adjusted EBITDA profitability as well as the fact that our strong fourth quarter EBITDA becomes free cash flow in the first quarter of 2020. We believe we remain on track with the margin targets we have discussed in the past of an adjusted EBITDA margin of 15% to 20% if and when we achieve bookings of $500 million. Please note that this range is largely dependent upon the bookings mix of licensed IP against royalty-free Glu IP titles. And we expect additional margin expansion if and when bookings scales above $500 million. The 3-phase plan we laid out in early 2017 is still firmly in place and we are committed to our strategy of developing growth games that can stack bookings and deliver growing profits over time.\\n\\n\\nI am encouraged that we believe we have launched a growth game with Diner Dash Adventures and we will continue to invest in it accordingly. While we were disappointed with the need to revise 2019 guidance, we believe that giving our teams the time to maximize the opportunity for our titles to become additional drivers of our growth portfolio is the right decision for shareholders and for Glu long term. With our current 3 growth games plus Diner Dash Adventures we believe that 2020 will be a strong year with the anticipated new releases highlighted by Disney Sorcerer's Arena and our new Deer Hunter title.\\n\\n\\nWe will now open the call for questions. Operator?\\n\\n\\nQuestions and Answers:\\n\\n\\nOperator\\n\\n\\n[Operator Instructions] Our first question comes from the line of Drew Crum of Stifel. Your line is open.\\n\\n\\nDrew Crum -- Stifel -- Analyst\\n\\n\\nSo with 1Q earnings, you reduced expectations for growth games by $10-plus million exactly, but you were assuming at the time that the pressures you were seeing on UA would continue through the balance of the year. It sounds like that's abated to some degree. Why no change in the bookings guidance for the growth titles?\\n\\n\\nEric R. Ludwig -- Chief Operating Officer and Chief Financial Officer\\n\\n\\nYes. So, Drew, back in February we had given guidance of $420 million, which was the combination of our core business of both growth games and our catalog. And then we added $20 million in February largely due to Diner Dash; so roughly about $15 million from Diner Dash and about $5 million from WWE. We then came into the May earnings call and did a reduction on the core business mainly from the UA headwinds and the pay-per-engagement ban that we saw on Apple. That took out high double-digit teens of bookings on the core business. And then we added $30 million of bookings for the combination of WWE and Disney. We thought that WWE was looking good coming into that earnings call and then Disney, we had the anticipated August launch. And then now, as I mentioned on the call, we're going from $450 million and we've got a reduction on the catalog, which is part of the core business, but the core business is coming down from the catalog due to this kind of acceleration that we saw. And then we've obviously pushed out Disney and reduced for WWE to the current run rates.\\n\\n\\nDrew Crum -- Stifel -- Analyst\\n\\n\\nOkay. Okay, fair enough. And then just kind of a basic question on the Disney Pixar game, for Nick. Do you believe the 1Q release date is enough time?\\n\\n\\nNick Earl -- President and Chief Executive Officer\\n\\n\\nYes, Andrew. Obviously, we have debated this long and hard over the last couple weeks as we talked about the potential move to Q1. We are seeing really good things happening in the game, but it is a massive, massive and deep economy, very, very deep meta game and there just is more polish work. We don't believe there's fundamental changes therefore we are confident we can make that date. And as mentioned, if things really go well and if the KPIs continue to improve at the rate we're seeing, there's a chance we will launch it early. We just don't want to commit to that, which is why we're saying Q1. We just released a big update with 5.0 and that included club wars, which is a very social feature, a PvPvP. We've got an improved home screen, lots of changes to the challenges, new social features, a lot more balanced economy.\\n\\n\\nThe next update, which we call 6.0, will have some merchandising improvements and some economy rebalancing and making sure the club system works really well, a few improvements to the battle formations and such. But these are all things that we think we've got our hands around and will lead us to the Q1 launch. So bottom line is we feel good about that. We just don't want to have it in this year and give kind of misleading guidance when we're trying to create something that's for the long term.\\n\\n\\nEric R. Ludwig -- Chief Operating Officer and Chief Financial Officer\\n\\n\\nAnd Drew, just as a quick follow-up to your question. Part of this WWE challenge, we've now adjusted our philosophy around new titles and including them in guidance. So kind of the bit of a whipsaw that we saw this year going up in May and then now down, if we had had this philosophy this year would not have happened at all and these would be insulated. So to have less guidance volatility and more forecast precision, until we launch new titles, in the future, our guidance will not include new titles.\\n\\n\\nDrew Crum -- Stifel -- Analyst\\n\\n\\nOkay thanks guys.\\n\\n\\nOperator\\n\\n\\nOur next question comes from the line of Doug Creutz from Cowen.\\n\\n\\nDoug Creutz -- Cowen -- Analyst\\n\\n\\nYes, you guys have given a lot of numbers in the call so first, if I could just -- I think I can do some math here. It sounds like you have now Diner Dash in your guidance for $21 million and WWE for $2 million. Is that right?\\n\\n\\nNick Earl -- President and Chief Executive Officer\\n\\n\\nThat's correct, yes.\\n\\n\\nDoug Creutz -- Cowen -- Analyst\\n\\n\\nOkay. When you guys gave guidance a quarter ago, presumably you were already seeing some of the degradation in the catalog, but you didn't call it out then. Did something change in the last 3 months? Or was this just a case of at the time you felt like with Disney coming that you could offset weakness there and now you don't and now you need to call it out? Can you give a little more color on sort of the step through in the guidance process there?\\n\\n\\nEric R. Ludwig -- Chief Operating Officer and Chief Financial Officer\\n\\n\\nYes, sure. I mean, yes, we certainly -- if you go back to Q1 2018 to Q2 2018, our catalog did take a big step function down. And then it kind of flattened out for a Q2, 3 and 4. This year, we saw that down and as we've been getting to kind of July, we've seen kind of continued trends. So we're not really expecting that the catalog was going to have a flat basis from Q2 to 3 to 4, dissimilar from last year. So that's kind of point number one. And then point number two, certain when we had confidence a quarter ago about WWE, we certainly thought we had some offsetting components with these new titles. So I think as WWE came out, did not have the LTV and what we saw in beta did not become reality in the live launch, and we got surprised there. And so that was kind of a pretty big surprise. And that obviously offset some of this weakness that we were seeing elsewhere.\\n\\n\\nOperator\\n\\n\\nOur next question comes from the line of Mike Hickey from The Benchmark Company. Your line is open.\\n\\n\\nMike Hickey -- The Benchmark Company -- Analyst\\n\\n\\nHi there.Thanks for taking my questions. Covet Fashion, good year-over-year growth. It looks like sequentially it showed a little weakness. Obviously you seem to be confident here this will continue to be a growth game. Could you just explain -- maybe I missed it in your prepared remarks -- but why you're seeing a little sequential weakness in Covet Fashion? And then can you, on an individual game basis, guide Q3 expectations on a sequential basis for Design Home, Covet Fashion and Baseball. I think Baseball was flat, but performed very well in Q3 last year. Just sort of curious how Q3 is going to take shape and why saw a sequential decline in Covet Fashion.\\n\\n\\nEric R. Ludwig -- Chief Operating Officer and Chief Financial Officer\\n\\n\\nYes, sure, Mike. Covet Fashion in Q2 is typically we see the summer slowdown from mothers having kids back from the holidays and vacation. So we typically see that. So that's kind of number one. And number two, we had a partnership with Disney for the Disney Princesses throughout the last 9-or-so months and that came to an end as well. So I think those combinations is why Covet Fashion kind of came down from a very, very strong Q1, and actually a record Q1, record quarterly bookings and 3 record high days in Q1 really on the backs of 3 very, very strong Disney performances. And then in Q2, we came off of that. And then in terms of our Q2 to Q3 bookings, it's really coming on the backs of obviously Diner Dash growing. We've got a tiny amount of growth from Design Home and flatness really from Covet. And then Baseball will take a slight downtick as it typically does from Q2 to Q3. That's kind of the rounding out of the entire forecast.\\n\\n\\nMike Hickey -- The Benchmark Company -- Analyst\\n\\n\\nOkay. So that's helpful. And then on -- you made a little acquisition. That's interesting. I'm curious how big that team is, if they came with any IP and I guess, more importantly, how you think about sort of building out the sports piece, which it sounds like you want to do. So curious what genres you're looking at, what games and when.\\n\\n\\nNick Earl -- President and Chief Executive Officer\\n\\n\\nYes. We're not going to give really any specific color on the timing or the sport that they're going after. Obviously, it's going to be in the outdoor/sports arena. That's what they're plugging into that group. We are very bullish on the possibilities of building kind of greater diversity and breadth in this sports/outdoor area. We think we can drive toward really building a brand that's meaningful given how successful Tap Sports Baseball has been in the space. And we found a team that we were introduced to that just really fits us culturally and logistically. So we acquihired them. They do not come with an IP per se, but they've got an idea that they're going to be developing out. It's a very small team so it's very cost-effective right now. But they're working, doing rapid iteration on this idea and they will plug nicely into our Sports group and leverage the infrastructure centrally in order to really accelerate that prototype. And we'll then take a look at and if we feel great about it, we'll fund it more and continue with it. But we really like these guys. They're very talented, very experienced. Like I said, they're a great cultural connect with Glu and we're just extremely bullish about this sector for Glu and the future and we think this is a really great add for us.\\n\\n\\nMike Hickey -- The Benchmark Company -- Analyst\\n\\n\\nCool. Last question from me. Obviously, Deer Hunter in '20, I think you may have said that you might start testing in '19, if I remember correctly. So curious, I guess, how that game is taking shape. And also wondering, I mean obviously Deer Hunter has been a massive success in terms of downloads and monetization, but it's never really proven out game. So curious sort of what you're doing with that game to make it consistently perform over the years.\\n\\n\\nNick Earl -- President and Chief Executive Officer\\n\\n\\nYes. You're absolutely right. In the last call we talked about getting this into beta at the end of this year. That's still the intent. Of course, as we've learned, we need to be somewhat malleable around and flexible around dates, but right now it is on track for that and on track for launch next year. We're not going to say anything more on timing. But yes, we feel really good about this. And you're absolutely right about the fact it has not proven out to be a growth game. And we believe that it's because it's never had a meta game attached to it. It's been a great core mechanic and a core loop that works incredibly well and provides a really wide funnel for users to come in. And that's one of the reasons why it has had such enormous downloads over the years. We're trying to take that and combine it with this depth that the Baseball studio, the Glu Sports group really has a deep understanding of, kind of merge those together and create a meaningful growth game.\\n\\n\\nAnd we think this has the potential to be a top-tier growth game for us and something that's really meaningful inside the marketplace because it has all those attributes; really wide funnel, it's got a great brand name, it's got a proven core loop that people love. We're improving kind of the look and feel of it and really adding a deep, deep RPG meta game and elder game that is really the component that's going to drive the LTV. We combine that with what we believe will be reasonable to low CPIs and we think we've got a winner. So lots of execution to do. We've got a great team working on it. We feel good about the progress. We feel good about the timing right now. And as we get closer, we will definitely be giving more color and more detail on how it's coming together.\\n\\n\\nMike Hickey -- The Benchmark Company -- Analyst\\n\\n\\nAwesome. All right. Thanks Nick.\\n\\n\\nNick Earl -- President and Chief Executive Officer\\n\\n\\nAll right. Thanks.\\n\\n\\nOperator\\n\\n\\nOur next question comes from the line of Jeff Cohen from Stephens. Your line is open.\\n\\n\\nJeff Cohen -- Stephens -- Analyst\\n\\n\\nHey guys thanks for taking my question. I just wanted to dig in a bit more on the decision to push Disney. How do you give investors the comfort that they're not going to see a repeat of what's happened with WWE where kind of it looks ready in soft launch and then it isn't? Have maybe you or the Mike Olsen team ever worked on games in the past that have been significantly delayed and then come out to be successful?\\n\\n\\nNick Earl -- President and Chief Executive Officer\\n\\n\\nYes, great question. And I'd say the number one reason why we are delaying it is specifically so we don't have a situation like we've had with WWE where we had some really good numbers, but it really wasn't at a scaled audience and then we fell short. And while we have like hope and confidence that the WWE team can recover, and it's an incredibly talented group so we feel like there's a path there for WWE, we want to be absolutely sure before we really launch Disney because this is a game that's going to have tremendous marketing support across the board, not just on device, but lots of other marketing support. So we really want to make sure it's right. And we believe giving ourselves this extra time is the prudent and smart move and definitely the calculated move to increase the chances of delivering, again, what we view as a top-tier growth game.\\n\\n\\nThat and Deer Hunter are the 2 that we feel that could really be at the top of the Glu charts. The team, to answer your question, has worked on games that are delayed. I would say that pretty much everyone in the industry has worked on delayed games. I've been a part of many. It's unfortunately a natural part of the process. And while we don't take light of it, we take this very seriously and are certainly disappointed that we had to move it out of the year, our view, Jeff, is that by moving it out, we increase the chances of creating something that's going to be around for multiple years. And that's really what we're after. So our view is we'll take the short-term pain and we will work through this and we'll work through in our processes and the way we communicate new games in development in order to increase the odds of creating more growth games that stack on top of our original 3 and now hopefully DDA, Diner Dash Adventures. So we create a more diverse, broad pool of growth games, which is just really healthy for Glu going forward. So bottom line is we just think it's a smart long-term move despite the pain for us and for investors in the short term.\\n\\n\\nJeff Cohen -- Stephens -- Analyst\\n\\n\\nAnd then I guess for a follow-up, can you just touch on how much Diner Dash is cannibalizing your existing Dash games and maybe how much that is affecting the catalog weakness?\\n\\n\\nEric R. Ludwig -- Chief Operating Officer and Chief Financial Officer\\n\\n\\nYes, Jeff. It's a good question. I mean there certainly is some cannibalization from Cooking Dash and Ramsay Dash. But we did pull off UA spend. So it's a combination of some cannibalization and we just chose not to invest in UA in the 3 months leading up to the launch so that we didn't have users that we needed to port over. The metrics and the monetization and conversion on Diner Dash Adventures is head and shoulders above what we saw in either of those other 2 titles. And obviously Ramsay Dash has a royalty on that as well. So it did not make sense for us to spend on UA to then try to transfer those users over. We kind of let the pump get primed in anticipation for the Diner Dash Adventures global launch.\\n\\n\\nJeff Cohen -- Stephens -- Analyst\\n\\n\\nGreat. Thanks Eric.\\n\\n\\nOperator\\n\\n\\nThe last question comes from the line of Darren Aftahi from Roth Capital.\\n\\n\\nDillon Griffin Heslin -- Roth Capital -- Analyst\\n\\n\\nHi. This is Dillon on for Darren. Thanks for taking my question. First of all, I appreciate some of the color around guidance and the puts and takes of what's going on there. But on some of the growth games, you're still seeing some solid growth across those core 3 games. Are you able to sort of quantify how big of an impact some of those recent meta game updates have had on Design Home and sort of what your expectations are that can keep Design Home at these growth rates or better going forward?\\n\\n\\nNick Earl -- President and Chief Executive Officer\\n\\n\\nYes, I'll take that. So Design Home, as you know, has been our largest growth game. It's been a real mover for us. And while we experienced some flatness last quarter that we talked about with the UA landscape, we're starting to see improvement there. So that just kind of covers what the kind of user acquisition side is like. In terms of the game itself, lots of things going on. They always kind of take longer than you want, but that's because there's tremendous complexity and depth going in to these features and systems that the team is working on every day. Key things are the internationalization. So we felt that design home just punches below its weight class compared to its peers in Europe and we think we've just got a real opportunity to create localized content and live ops and events and user acquisition targeting in select European markets and then we'll roll out from there. So that's going on. Of course, we are continuing to add to the meta. We've got new homes going in. A townhouse, which I believe is a fourth house going in as part of the meta game, will be in shortly.\\n\\n\\nAdding replayability around the goal system. So lots happening in the meta game. And honestly, this is just going to go on for years. I mean we're just in the early innings of what we're doing in terms of the depth and what the team is doing. And then social systems, which is probably a little more of a 2020 driver, but we're excited about the opportunity to create more social connect for the many players who are playing this game. So bottom line with Design Home is that we're starting to see an improvement in the user acquisition landscape and we are definitely seeing a team that is really coming together with regards to deepening the meta game and taking this to new marketplaces and building in social over time. So we're very bullish on this. It's been growing every quarter and we believe that's very much the future of Design Home.\\n\\n\\nDillon Griffin Heslin -- Roth Capital -- Analyst\\n\\n\\nAnd then on Diner Dash Adventure, I think you mentioned you added $6 million in incremental bookings for that game here in the second half. Is that based on how strong the game has been relative to expectations for the first, I guess, month-and-a-half that it's been out? Or are you seeing those trends continue here in 3Q for the first month? Just sort of what's giving you that confidence there?\\n\\n\\nEric R. Ludwig -- Chief Operating Officer and Chief Financial Officer\\n\\n\\nYes, Dillon. Yes, we added $6 million for the back half from our guidance from $15 million into $21 million. And that was really based on the strength that we've seen, call it, from June 20th all the way through to yesterday. And that's why we've also been investing on user acquisition at a higher level. Now I would point out that when we've seen something like this before back in May of 2017, we decided to consciously ramp up UA spend on Design Home. And that really paid off, getting that title to a whole another base camp and a new level of growth. And that's what our expectation is here. We really believe that Diner Dash Adventures has the potential to become a fourth growth game for us into 2020. And we want to really sort of stack the deck in our favor by doing everything we can as early as possible. And that's what we're doing right now in the third quarter.\\n\\n\\nDillon Griffin Heslin -- Roth Capital -- Analyst\\n\\n\\nGot it. And then last one for me. On some of the UA changes with your ability to -- or I'm just sort of wondering how quickly and flexible are you with that UA spend just given some of the dynamics that have gone on over the past 2 quarters? And sort of what's the lag time between if you see one of these games outperforming or underperforming and how quickly you can sort of reallocate that spend?\\n\\n\\nEric R. Ludwig -- Chief Operating Officer and Chief Financial Officer\\n\\n\\nYes. Well, it's almost immediate. The good thing about user acquisition here at Glu is everything is 100% variable. And the things we look for are, one, what are the current CPIs, the cost per install, so on the cost side and we're evaluating every day, every week; as we spend at this level of spend and then as we ramp it up. What does that curve look like of the CPI as spend goes up or as it goes down? That's number one. And then number two, we're constantly looking at each title's Day 1 and Day 7, we call it RPI, revenue per install. And when you've got games that have been live for a long time, you look at the Day 1 to Day 365 to Day 7 to Day 365 to get an extrapolation as to how the titles actually do in reality. And so as we look at fresh users and at Day 1 and Day 7 and what's the revenue looking like, are the revenues of this cohort this week trending up or down versus last week versus last month versus last year? And based on that data, we reallocate budget on a weekly basis. So we may go into the quarter with a fixed number of budget dollars, but every single week we are reallocating that based on last week's and last month's CPI trends, RPI trends, etc.\\n\\n\\nDillon Griffin Heslin -- Roth Capital -- Analyst\\n\\n\\nThank you.\\n\\n\\nOperator\\n\\n\\nI would now like to turn the call back to Nick Earl, company CEO.\\n\\n\\nNick Earl -- President and Chief Executive Officer\\n\\n\\nGreat. Thanks, everyone, for joining us and we'll talk to you next quarter.\\n\\n\\nOperator\\n\\n\\n[Operator Closing Remarks]\\n\\n\\nDuration: 43 minutes\\n\\n\\nCall participants:\\n\\n\\nHarman Singh -- Vise President, finance and Investor Relation\\n\\n\\nNick Earl -- President and Chief Executive Officer\\n\\n\\nEric R. Ludwig -- Chief Operating Officer and Chief Financial Officer\\n\\n\\nDrew Crum -- Stifel -- Analyst\\n\\n\\nDoug Creutz -- Cowen -- Analyst\\n\\n\\nMike Hickey -- The Benchmark Company -- Analyst\\n\\n\\nJeff Cohen -- Stephens -- Analyst\\n\\n\\nDillon Griffin Heslin -- Roth Capital -- Analyst\\n\\n\\n\\nTranscript powered by\",\n 'direction': 'DOWN'}"
     },
     "execution_count": 51,
     "metadata": {},
     "output_type": "execute_result"
    }
   ],
   "source": [
    "dataset[8657]"
   ],
   "metadata": {
    "collapsed": false,
    "ExecuteTime": {
     "end_time": "2023-12-13T22:16:46.451482300Z",
     "start_time": "2023-12-13T22:16:46.425198Z"
    }
   },
   "id": "cc01c8a1b7f4411"
  },
  {
   "cell_type": "code",
   "execution_count": 48,
   "outputs": [],
   "source": [
    "dataset = MotleyFoolDataset(folder)\n",
    "len(dataset)  # -> 40002\n",
    "dataset[3256]  # -> A lazy loaded element\n",
    "for element in dataset:\n",
    "    ...  # Iterate over elements by lazy loading them on demand"
   ],
   "metadata": {
    "collapsed": false,
    "ExecuteTime": {
     "end_time": "2023-12-13T19:27:43.344708800Z",
     "start_time": "2023-12-13T19:27:37.904008500Z"
    }
   },
   "id": "41e88505687bd6ae"
  },
  {
   "cell_type": "code",
   "execution_count": 49,
   "outputs": [
    {
     "data": {
      "text/plain": "                                                     url  \\\n0      https://www.fool.com/earnings/call-transcripts...   \n1      https://www.fool.com/earnings/call-transcripts...   \n2      https://www.fool.com/earnings/call-transcripts...   \n3      https://www.fool.com/earnings/call-transcripts...   \n4      https://www.fool.com/earnings/call-transcripts...   \n...                                                  ...   \n39997  https://www.fool.com/earnings/call-transcripts...   \n39998  https://www.fool.com/earnings/call-transcripts...   \n39999  https://www.fool.com/earnings/call-transcripts...   \n40000  https://www.fool.com/earnings/call-transcripts...   \n40001  https://www.fool.com/earnings/call-transcripts...   \n\n                                                   title  \\\n0      Barracuda Networks Q2 2018 Earnings Conference...   \n1      Delta Air Lines Q3 2017 Earnings Conference Ca...   \n2      JP Morgan Chase Co Q3 2017 Earnings Conference...   \n3      Citigroup Q3 2017 Earnings Conference Call Tra...   \n4      Bank of America Corporation Q3 2017 Earnings C...   \n...                                                  ...   \n39997  RH (RH) Q3 2023 Earnings Call Transcript | The...   \n39998  Johnson Controls International Plc (JCI) Q4 20...   \n39999  Oracle (ORCL) Q2 2024 Earnings Call Transcript...   \n40000  Innovative Industrial Properties, Inc. Class A...   \n40001  Loews Corp (L) Q3 2018 Earnings Conference Cal...   \n\n                                         company_name company_ticker  quarter  \\\n0                                  Barracuda Networks           CUDA  Q2 2018   \n1                                     Delta Air Lines            DAL  Q3 2017   \n2                                  JP Morgan Chase Co            JPM  Q3 2017   \n3                                           Citigroup              C  Q3 2017   \n4                         Bank of America Corporation            BAC  Q3 2017   \n...                                               ...            ...      ...   \n39997                                              RH             RH  Q3 2023   \n39998              Johnson Controls International Plc            JCI  Q4 2023   \n39999                                          Oracle           ORCL  Q2 2024   \n40000  Innovative Industrial Properties, Inc. Class A           IIPR  Q4 2018   \n40001                                      Loews Corp              L  Q3 2018   \n\n                            date  \\\n0      2017-10-10 16:30:00+00:00   \n1      2017-10-11 10:00:00+00:00   \n2      2017-10-12 08:30:00+00:00   \n3      2017-10-12 10:00:00+00:00   \n4      2017-10-13 08:30:00+00:00   \n...                          ...   \n39997  2023-12-07 17:00:00+00:00   \n39998  2023-12-12 08:30:00+00:00   \n39999  2023-12-11 17:00:00+00:00   \n40000  2019-03-14 13:00:00+00:00   \n40001  2018-11-05 11:00:00+00:00   \n\n                                                 content  \n0      Contents:\\n\\n\\n\\n\\nPrepared Remarks\\n\\n\\nQuest...  \n1      Contents:\\n\\n\\n\\n\\nPrepared Remarks\\n\\n\\nQuest...  \n2      Contents:\\n\\n\\n\\n\\nPrepared Remarks\\n\\n\\nQuest...  \n3      Contents:\\n\\n\\n\\n\\nPrepared Remarks\\n\\n\\nQuest...  \n4      Contents:\\n\\n\\n\\n\\nPrepared Remarks\\n\\n\\nQuest...  \n...                                                  ...  \n39997  Contents:\\n \\n \\nPrepared Remarks\\n \\nQuestion...  \n39998  Contents:\\n \\n \\nPrepared Remarks\\n \\nQuestion...  \n39999  Contents:\\n \\n \\nPrepared Remarks\\n \\nQuestion...  \n40000  Contents:\\n\\n\\n\\n\\nPrepared Remarks\\n\\n\\nQuest...  \n40001  Contents:\\n\\n\\n\\n\\nPrepared Remarks\\n\\n\\nQuest...  \n\n[40002 rows x 7 columns]",
      "text/html": "<div>\n<style scoped>\n    .dataframe tbody tr th:only-of-type {\n        vertical-align: middle;\n    }\n\n    .dataframe tbody tr th {\n        vertical-align: top;\n    }\n\n    .dataframe thead th {\n        text-align: right;\n    }\n</style>\n<table border=\"1\" class=\"dataframe\">\n  <thead>\n    <tr style=\"text-align: right;\">\n      <th></th>\n      <th>url</th>\n      <th>title</th>\n      <th>company_name</th>\n      <th>company_ticker</th>\n      <th>quarter</th>\n      <th>date</th>\n      <th>content</th>\n    </tr>\n  </thead>\n  <tbody>\n    <tr>\n      <th>0</th>\n      <td>https://www.fool.com/earnings/call-transcripts...</td>\n      <td>Barracuda Networks Q2 2018 Earnings Conference...</td>\n      <td>Barracuda Networks</td>\n      <td>CUDA</td>\n      <td>Q2 2018</td>\n      <td>2017-10-10 16:30:00+00:00</td>\n      <td>Contents:\\n\\n\\n\\n\\nPrepared Remarks\\n\\n\\nQuest...</td>\n    </tr>\n    <tr>\n      <th>1</th>\n      <td>https://www.fool.com/earnings/call-transcripts...</td>\n      <td>Delta Air Lines Q3 2017 Earnings Conference Ca...</td>\n      <td>Delta Air Lines</td>\n      <td>DAL</td>\n      <td>Q3 2017</td>\n      <td>2017-10-11 10:00:00+00:00</td>\n      <td>Contents:\\n\\n\\n\\n\\nPrepared Remarks\\n\\n\\nQuest...</td>\n    </tr>\n    <tr>\n      <th>2</th>\n      <td>https://www.fool.com/earnings/call-transcripts...</td>\n      <td>JP Morgan Chase Co Q3 2017 Earnings Conference...</td>\n      <td>JP Morgan Chase Co</td>\n      <td>JPM</td>\n      <td>Q3 2017</td>\n      <td>2017-10-12 08:30:00+00:00</td>\n      <td>Contents:\\n\\n\\n\\n\\nPrepared Remarks\\n\\n\\nQuest...</td>\n    </tr>\n    <tr>\n      <th>3</th>\n      <td>https://www.fool.com/earnings/call-transcripts...</td>\n      <td>Citigroup Q3 2017 Earnings Conference Call Tra...</td>\n      <td>Citigroup</td>\n      <td>C</td>\n      <td>Q3 2017</td>\n      <td>2017-10-12 10:00:00+00:00</td>\n      <td>Contents:\\n\\n\\n\\n\\nPrepared Remarks\\n\\n\\nQuest...</td>\n    </tr>\n    <tr>\n      <th>4</th>\n      <td>https://www.fool.com/earnings/call-transcripts...</td>\n      <td>Bank of America Corporation Q3 2017 Earnings C...</td>\n      <td>Bank of America Corporation</td>\n      <td>BAC</td>\n      <td>Q3 2017</td>\n      <td>2017-10-13 08:30:00+00:00</td>\n      <td>Contents:\\n\\n\\n\\n\\nPrepared Remarks\\n\\n\\nQuest...</td>\n    </tr>\n    <tr>\n      <th>...</th>\n      <td>...</td>\n      <td>...</td>\n      <td>...</td>\n      <td>...</td>\n      <td>...</td>\n      <td>...</td>\n      <td>...</td>\n    </tr>\n    <tr>\n      <th>39997</th>\n      <td>https://www.fool.com/earnings/call-transcripts...</td>\n      <td>RH (RH) Q3 2023 Earnings Call Transcript | The...</td>\n      <td>RH</td>\n      <td>RH</td>\n      <td>Q3 2023</td>\n      <td>2023-12-07 17:00:00+00:00</td>\n      <td>Contents:\\n \\n \\nPrepared Remarks\\n \\nQuestion...</td>\n    </tr>\n    <tr>\n      <th>39998</th>\n      <td>https://www.fool.com/earnings/call-transcripts...</td>\n      <td>Johnson Controls International Plc (JCI) Q4 20...</td>\n      <td>Johnson Controls International Plc</td>\n      <td>JCI</td>\n      <td>Q4 2023</td>\n      <td>2023-12-12 08:30:00+00:00</td>\n      <td>Contents:\\n \\n \\nPrepared Remarks\\n \\nQuestion...</td>\n    </tr>\n    <tr>\n      <th>39999</th>\n      <td>https://www.fool.com/earnings/call-transcripts...</td>\n      <td>Oracle (ORCL) Q2 2024 Earnings Call Transcript...</td>\n      <td>Oracle</td>\n      <td>ORCL</td>\n      <td>Q2 2024</td>\n      <td>2023-12-11 17:00:00+00:00</td>\n      <td>Contents:\\n \\n \\nPrepared Remarks\\n \\nQuestion...</td>\n    </tr>\n    <tr>\n      <th>40000</th>\n      <td>https://www.fool.com/earnings/call-transcripts...</td>\n      <td>Innovative Industrial Properties, Inc. Class A...</td>\n      <td>Innovative Industrial Properties, Inc. Class A</td>\n      <td>IIPR</td>\n      <td>Q4 2018</td>\n      <td>2019-03-14 13:00:00+00:00</td>\n      <td>Contents:\\n\\n\\n\\n\\nPrepared Remarks\\n\\n\\nQuest...</td>\n    </tr>\n    <tr>\n      <th>40001</th>\n      <td>https://www.fool.com/earnings/call-transcripts...</td>\n      <td>Loews Corp (L) Q3 2018 Earnings Conference Cal...</td>\n      <td>Loews Corp</td>\n      <td>L</td>\n      <td>Q3 2018</td>\n      <td>2018-11-05 11:00:00+00:00</td>\n      <td>Contents:\\n\\n\\n\\n\\nPrepared Remarks\\n\\n\\nQuest...</td>\n    </tr>\n  </tbody>\n</table>\n<p>40002 rows × 7 columns</p>\n</div>"
     },
     "execution_count": 49,
     "metadata": {},
     "output_type": "execute_result"
    }
   ],
   "source": [
    "import pandas as pd\n",
    "pd.DataFrame(dataset)"
   ],
   "metadata": {
    "collapsed": false,
    "ExecuteTime": {
     "end_time": "2023-12-13T21:55:06.574948800Z",
     "start_time": "2023-12-13T21:49:30.599959500Z"
    }
   },
   "id": "5913bb5b7832fb90"
  }
 ],
 "metadata": {
  "kernelspec": {
   "display_name": "Python 3",
   "language": "python",
   "name": "python3"
  },
  "language_info": {
   "codemirror_mode": {
    "name": "ipython",
    "version": 2
   },
   "file_extension": ".py",
   "mimetype": "text/x-python",
   "name": "python",
   "nbconvert_exporter": "python",
   "pygments_lexer": "ipython2",
   "version": "2.7.6"
  }
 },
 "nbformat": 4,
 "nbformat_minor": 5
}
